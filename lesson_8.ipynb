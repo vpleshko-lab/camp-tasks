{
 "cells": [
  {
   "cell_type": "markdown",
   "id": "9623afaf",
   "metadata": {},
   "source": [
    "# Home Task\n",
    "## Brest cancer dataset"
   ]
  },
  {
   "cell_type": "code",
   "execution_count": null,
   "id": "766510d2",
   "metadata": {},
   "outputs": [],
   "source": [
    "import matplotlib.pyplot as plt\n",
    "import pandas as pd\n",
    "import numpy as np\n",
    "\n",
    "from sklearn.datasets import load_iris\n",
    "from sklearn import tree\n",
    "from sklearn.model_selection import train_test_split, GridSearchCV\n",
    "import matplotlib.pyplot as plt\n",
    "from sklearn.datasets import load_iris\n",
    "from sklearn.pipeline import Pipeline\n",
    "from sklearn.preprocessing import StandardScaler\n",
    "from sklearn.ensemble import RandomForestClassifier, GradientBoostingClassifier\n",
    "from xgboost import XGBClassifier\n",
    "from sklearn.tree import DecisionTreeClassifier, plot_tree\n",
    "from sklearn.metrics import confusion_matrix, accuracy_score, classification_report\n",
    "\n",
    "from sklearn.datasets import load_breast_cancer\n"
   ]
  },
  {
   "cell_type": "code",
   "execution_count": null,
   "id": "1e3ed599",
   "metadata": {},
   "outputs": [
    {
     "name": "stdout",
     "output_type": "stream",
     "text": [
      "Labels: ['malignant' 'benign']\n",
      "Features: ['mean radius' 'mean texture' 'mean perimeter' 'mean area'\n",
      " 'mean smoothness' 'mean compactness' 'mean concavity'\n",
      " 'mean concave points' 'mean symmetry' 'mean fractal dimension'\n",
      " 'radius error' 'texture error' 'perimeter error' 'area error'\n",
      " 'smoothness error' 'compactness error' 'concavity error'\n",
      " 'concave points error' 'symmetry error' 'fractal dimension error'\n",
      " 'worst radius' 'worst texture' 'worst perimeter' 'worst area'\n",
      " 'worst smoothness' 'worst compactness' 'worst concavity'\n",
      " 'worst concave points' 'worst symmetry' 'worst fractal dimension']\n",
      "======================================================================\n",
      "X_train: (398, 30)\n",
      "y_train: (398,)\n",
      "x_test: (398,)\n",
      "y_test: (171,)\n"
     ]
    }
   ],
   "source": [
    "cancer = load_breast_cancer()\n",
    "\n",
    "X, y, labels, features = cancer.data, cancer.target, cancer.target_names, cancer.feature_names\n",
    "print(\"Labels:\", labels)\n",
    "print(\"Features:\", features)\n",
    "\n",
    "X_train, X_test, y_train, y_test = train_test_split(\n",
    "    X, y,\n",
    "    test_size=0.30,\n",
    "    random_state=0\n",
    ")\n",
    "print(\"=\"*70)\n",
    "for name, arr in zip([\"X_train\", \"y_train\", \"x_test\", \"y_test\"], [X_train, y_train, X_test, y_test]):\n",
    "    print(f\"{name}: {arr.shape}\")\n"
   ]
  },
  {
   "cell_type": "code",
   "execution_count": null,
   "id": "0e34104b",
   "metadata": {},
   "outputs": [],
   "source": [
    "def run_classifier(clf, param_grid, X_train, X_test, y_train, y_test):\n",
    "    pipeline = Pipeline([\n",
    "        (\"scaler\", StandardScaler()),\n",
    "        (\"clf\", clf)\n",
    "    ])\n",
    "\n",
    "    gs = GridSearchCV(pipeline,\n",
    "                      param_grid,\n",
    "                      cv=5,\n",
    "                      verbose=1)\n",
    "    gs.fit(X_train, y_train)\n",
    "\n",
    "    y_pred = gs.predict(X_test)\n",
    "\n",
    "    best_model = gs.best_estimator_\n",
    "    print(f\"\\n=== {clf.__class__.__name__} ===\")\n",
    "    print(\"Train score:\", round(best_model.score(X_train, y_train), 4))\n",
    "    print(\"Test score:\", round(best_model.score(X_test, y_test), 4))\n",
    "    print(\"Best params:\", gs.best_params_)\n",
    "    print(\"Confusion Matrix:\\n\", confusion_matrix(y_test, y_pred))\n",
    "    print(\"Classification Report:\\n\", classification_report(y_test, y_pred))\n"
   ]
  },
  {
   "cell_type": "markdown",
   "id": "c453b4e0",
   "metadata": {},
   "source": [
    "## DecisionTree"
   ]
  },
  {
   "cell_type": "code",
   "execution_count": null,
   "id": "a6265029",
   "metadata": {},
   "outputs": [
    {
     "name": "stdout",
     "output_type": "stream",
     "text": [
      "Fitting 5 folds for each of 9 candidates, totalling 45 fits\n",
      "\n",
      "=== DecisionTreeClassifier ===\n",
      "Train score: 0.9874\n",
      "Test score: 0.9357\n",
      "Best params: {'clf__max_depth': 5, 'clf__min_samples_split': 2}\n",
      "Confusion Matrix:\n",
      " [[ 60   3]\n",
      " [  8 100]]\n",
      "Classification Report:\n",
      "               precision    recall  f1-score   support\n",
      "\n",
      "           0       0.88      0.95      0.92        63\n",
      "           1       0.97      0.93      0.95       108\n",
      "\n",
      "    accuracy                           0.94       171\n",
      "   macro avg       0.93      0.94      0.93       171\n",
      "weighted avg       0.94      0.94      0.94       171\n",
      "\n"
     ]
    }
   ],
   "source": [
    "run_classifier(\n",
    "    clf=DecisionTreeClassifier(),\n",
    "    param_grid={\n",
    "        \"clf__max_depth\": [3, 5, 7],\n",
    "        \"clf__min_samples_split\": [2, 4, 6]\n",
    "    },\n",
    "    X_train=X_train, X_test=X_test, y_train=y_train, y_test=y_test\n",
    ")\n"
   ]
  },
  {
   "cell_type": "markdown",
   "id": "a18dd004",
   "metadata": {},
   "source": [
    "## RandomForest\n"
   ]
  },
  {
   "cell_type": "code",
   "execution_count": null,
   "id": "dbe694c7",
   "metadata": {},
   "outputs": [
    {
     "name": "stdout",
     "output_type": "stream",
     "text": [
      "Fitting 5 folds for each of 36 candidates, totalling 180 fits\n",
      "\n",
      "=== RandomForestClassifier ===\n",
      "Train score: 0.9925\n",
      "Test score: 0.9591\n",
      "Best params: {'clf__max_depth': 10, 'clf__min_samples_split': 10, 'clf__n_estimators': 200}\n",
      "Confusion Matrix:\n",
      " [[ 60   3]\n",
      " [  4 104]]\n",
      "Classification Report:\n",
      "               precision    recall  f1-score   support\n",
      "\n",
      "           0       0.94      0.95      0.94        63\n",
      "           1       0.97      0.96      0.97       108\n",
      "\n",
      "    accuracy                           0.96       171\n",
      "   macro avg       0.95      0.96      0.96       171\n",
      "weighted avg       0.96      0.96      0.96       171\n",
      "\n"
     ]
    }
   ],
   "source": [
    "run_classifier(\n",
    "    clf=RandomForestClassifier(),\n",
    "    param_grid={\n",
    "        \"clf__n_estimators\": [100, 200, 300],\n",
    "        \"clf__max_depth\": [None, 5, 10, 20],\n",
    "        \"clf__min_samples_split\": [2, 5, 10],\n",
    "    },\n",
    "    X_train=X_train, X_test=X_test, y_train=y_train, y_test=y_test\n",
    ")\n"
   ]
  },
  {
   "cell_type": "markdown",
   "id": "66facea2",
   "metadata": {},
   "source": [
    "## Gradient Boosting Decisions Trees (GBDT)"
   ]
  },
  {
   "cell_type": "code",
   "execution_count": null,
   "id": "c44a1c53",
   "metadata": {},
   "outputs": [
    {
     "name": "stdout",
     "output_type": "stream",
     "text": [
      "Fitting 5 folds for each of 18 candidates, totalling 90 fits\n",
      "\n",
      "=== GradientBoostingClassifier ===\n",
      "Train score: 1.0\n",
      "Test score: 0.9883\n",
      "Best params: {'clf__learning_rate': 0.2, 'clf__max_depth': 3, 'clf__n_estimators': 200}\n",
      "Confusion Matrix:\n",
      " [[ 61   2]\n",
      " [  0 108]]\n",
      "Classification Report:\n",
      "               precision    recall  f1-score   support\n",
      "\n",
      "           0       1.00      0.97      0.98        63\n",
      "           1       0.98      1.00      0.99       108\n",
      "\n",
      "    accuracy                           0.99       171\n",
      "   macro avg       0.99      0.98      0.99       171\n",
      "weighted avg       0.99      0.99      0.99       171\n",
      "\n"
     ]
    }
   ],
   "source": [
    "run_classifier(\n",
    "    clf=GradientBoostingClassifier(),\n",
    "    param_grid={\n",
    "        \"clf__n_estimators\": [100, 200],\n",
    "        \"clf__learning_rate\": [0.01, 0.1, 0.2],\n",
    "        \"clf__max_depth\": [3, 5, 7],\n",
    "    }, X_train=X_train, X_test=X_test, y_train=y_train, y_test=y_test\n",
    ")\n"
   ]
  },
  {
   "cell_type": "code",
   "execution_count": null,
   "id": "c62e1825",
   "metadata": {},
   "outputs": [
    {
     "name": "stdout",
     "output_type": "stream",
     "text": [
      "Fitting 5 folds for each of 64 candidates, totalling 320 fits\n",
      "\n",
      "=== XGBClassifier ===\n",
      "Train score: 1.0\n",
      "Test score: 0.9708\n",
      "Best params: {'clf__colsample_bytree': 0.9, 'clf__learning_rate': 0.1, 'clf__max_depth': 3, 'clf__min_child_weight': 1, 'clf__n_estimators': 100, 'clf__subsample': 0.9}\n",
      "Confusion Matrix:\n",
      " [[ 61   2]\n",
      " [  3 105]]\n",
      "Classification Report:\n",
      "               precision    recall  f1-score   support\n",
      "\n",
      "           0       0.95      0.97      0.96        63\n",
      "           1       0.98      0.97      0.98       108\n",
      "\n",
      "    accuracy                           0.97       171\n",
      "   macro avg       0.97      0.97      0.97       171\n",
      "weighted avg       0.97      0.97      0.97       171\n",
      "\n"
     ]
    }
   ],
   "source": [
    "run_classifier(\n",
    "    clf=XGBClassifier(),\n",
    "    param_grid={\n",
    "        \"clf__n_estimators\": [50, 100],\n",
    "        \"clf__learning_rate\": [0.05, 0.1],\n",
    "        \"clf__max_depth\": [3, 5],\n",
    "        \"clf__min_child_weight\": [1, 2],\n",
    "        \"clf__subsample\": [0.8, 0.9],\n",
    "        \"clf__colsample_bytree\": [0.8, 0.9],\n",
    "    }, X_train=X_train, X_test=X_test, y_train=y_train, y_test=y_test)\n"
   ]
  },
  {
   "cell_type": "code",
   "execution_count": null,
   "id": "865aea6a",
   "metadata": {},
   "outputs": [],
   "source": []
  }
 ],
 "metadata": {
  "kernelspec": {
   "display_name": "base",
   "language": "python",
   "name": "python3"
  },
  "language_info": {
   "codemirror_mode": {
    "name": "ipython",
    "version": 3
   },
   "file_extension": ".py",
   "mimetype": "text/x-python",
   "name": "python",
   "nbconvert_exporter": "python",
   "pygments_lexer": "ipython3",
   "version": "3.12.7"
  }
 },
 "nbformat": 4,
 "nbformat_minor": 5
}
