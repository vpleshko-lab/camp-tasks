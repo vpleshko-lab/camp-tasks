{
  "cells": [
    {
      "cell_type": "markdown",
      "metadata": {
        "id": "IrJQgatswKhP"
      },
      "source": [
        "- EllipticEnvelope\n",
        "- IsolationForest\n",
        "- LOF\n",
        "- DBSCAN\n",
        "- OneClassSVM"
      ]
    },
    {
      "cell_type": "code",
      "execution_count": null,
      "metadata": {
        "id": "Y-vxxSVVUePq"
      },
      "outputs": [],
      "source": [
        "import pandas as pd\n",
        "import numpy as np\n"
      ]
    },
    {
      "cell_type": "code",
      "execution_count": 2,
      "metadata": {
        "colab": {
          "base_uri": "https://localhost:8080/"
        },
        "id": "Z_yHmyCOUhln",
        "outputId": "6a9c2e5a-550c-4692-c1d1-c98f34f77ae4"
      },
      "outputs": [
        {
          "name": "stdout",
          "output_type": "stream",
          "text": [
            "<class 'pandas.core.frame.DataFrame'>\n",
            "RangeIndex: 284807 entries, 0 to 284806\n",
            "Data columns (total 30 columns):\n",
            " #   Column  Non-Null Count   Dtype  \n",
            "---  ------  --------------   -----  \n",
            " 0   V1      284807 non-null  float64\n",
            " 1   V2      284807 non-null  float64\n",
            " 2   V3      284807 non-null  float64\n",
            " 3   V4      284807 non-null  float64\n",
            " 4   V5      284807 non-null  float64\n",
            " 5   V6      284807 non-null  float64\n",
            " 6   V7      284807 non-null  float64\n",
            " 7   V8      284807 non-null  float64\n",
            " 8   V9      284807 non-null  float64\n",
            " 9   V10     284807 non-null  float64\n",
            " 10  V11     284807 non-null  float64\n",
            " 11  V12     284807 non-null  float64\n",
            " 12  V13     284807 non-null  float64\n",
            " 13  V14     284807 non-null  float64\n",
            " 14  V15     284807 non-null  float64\n",
            " 15  V16     284807 non-null  float64\n",
            " 16  V17     284807 non-null  float64\n",
            " 17  V18     284807 non-null  float64\n",
            " 18  V19     284807 non-null  float64\n",
            " 19  V20     284807 non-null  float64\n",
            " 20  V21     284807 non-null  float64\n",
            " 21  V22     284807 non-null  float64\n",
            " 22  V23     284807 non-null  float64\n",
            " 23  V24     284807 non-null  float64\n",
            " 24  V25     284807 non-null  float64\n",
            " 25  V26     284807 non-null  float64\n",
            " 26  V27     284807 non-null  float64\n",
            " 27  V28     284807 non-null  float64\n",
            " 28  Amount  284807 non-null  float64\n",
            " 29  Class   284807 non-null  int64  \n",
            "dtypes: float64(29), int64(1)\n",
            "memory usage: 65.2 MB\n"
          ]
        }
      ],
      "source": [
        "path = '/Users/vladislavpleshko/Documents/VS Code/before/amazinum/data/creditcard 2.csv'\n",
        "df = pd.read_csv(path)\n",
        "df.drop(columns=['Time'], inplace=True)\n",
        "df.info()\n"
      ]
    },
    {
      "cell_type": "code",
      "execution_count": null,
      "metadata": {
        "colab": {
          "base_uri": "https://localhost:8080/",
          "height": 325
        },
        "id": "z18Sxi-VU40D",
        "outputId": "7fd902ed-5b0a-43bb-a831-07aee0677f1d"
      },
      "outputs": [
        {
          "name": "stdout",
          "output_type": "stream",
          "text": [
            "Class\n",
            "0    275190\n",
            "1       473\n",
            "Name: count, dtype: int64\n"
          ]
        },
        {
          "data": {
            "text/html": [
              "<div>\n",
              "<style scoped>\n",
              "    .dataframe tbody tr th:only-of-type {\n",
              "        vertical-align: middle;\n",
              "    }\n",
              "\n",
              "    .dataframe tbody tr th {\n",
              "        vertical-align: top;\n",
              "    }\n",
              "\n",
              "    .dataframe thead th {\n",
              "        text-align: right;\n",
              "    }\n",
              "</style>\n",
              "<table border=\"1\" class=\"dataframe\">\n",
              "  <thead>\n",
              "    <tr style=\"text-align: right;\">\n",
              "      <th></th>\n",
              "      <th>V1</th>\n",
              "      <th>V2</th>\n",
              "      <th>V3</th>\n",
              "      <th>V4</th>\n",
              "      <th>V5</th>\n",
              "      <th>V6</th>\n",
              "      <th>V7</th>\n",
              "      <th>V8</th>\n",
              "      <th>V9</th>\n",
              "      <th>V10</th>\n",
              "      <th>...</th>\n",
              "      <th>V20</th>\n",
              "      <th>V21</th>\n",
              "      <th>V22</th>\n",
              "      <th>V23</th>\n",
              "      <th>V24</th>\n",
              "      <th>V25</th>\n",
              "      <th>V26</th>\n",
              "      <th>V27</th>\n",
              "      <th>V28</th>\n",
              "      <th>Amount</th>\n",
              "    </tr>\n",
              "  </thead>\n",
              "  <tbody>\n",
              "    <tr>\n",
              "      <th>0</th>\n",
              "      <td>-1.359807</td>\n",
              "      <td>-0.072781</td>\n",
              "      <td>2.536347</td>\n",
              "      <td>1.378155</td>\n",
              "      <td>-0.338321</td>\n",
              "      <td>0.462388</td>\n",
              "      <td>0.239599</td>\n",
              "      <td>0.098698</td>\n",
              "      <td>0.363787</td>\n",
              "      <td>0.090794</td>\n",
              "      <td>...</td>\n",
              "      <td>0.251412</td>\n",
              "      <td>-0.018307</td>\n",
              "      <td>0.277838</td>\n",
              "      <td>-0.110474</td>\n",
              "      <td>0.066928</td>\n",
              "      <td>0.128539</td>\n",
              "      <td>-0.189115</td>\n",
              "      <td>0.133558</td>\n",
              "      <td>-0.021053</td>\n",
              "      <td>149.62</td>\n",
              "    </tr>\n",
              "    <tr>\n",
              "      <th>1</th>\n",
              "      <td>1.191857</td>\n",
              "      <td>0.266151</td>\n",
              "      <td>0.166480</td>\n",
              "      <td>0.448154</td>\n",
              "      <td>0.060018</td>\n",
              "      <td>-0.082361</td>\n",
              "      <td>-0.078803</td>\n",
              "      <td>0.085102</td>\n",
              "      <td>-0.255425</td>\n",
              "      <td>-0.166974</td>\n",
              "      <td>...</td>\n",
              "      <td>-0.069083</td>\n",
              "      <td>-0.225775</td>\n",
              "      <td>-0.638672</td>\n",
              "      <td>0.101288</td>\n",
              "      <td>-0.339846</td>\n",
              "      <td>0.167170</td>\n",
              "      <td>0.125895</td>\n",
              "      <td>-0.008983</td>\n",
              "      <td>0.014724</td>\n",
              "      <td>2.69</td>\n",
              "    </tr>\n",
              "    <tr>\n",
              "      <th>2</th>\n",
              "      <td>-1.358354</td>\n",
              "      <td>-1.340163</td>\n",
              "      <td>1.773209</td>\n",
              "      <td>0.379780</td>\n",
              "      <td>-0.503198</td>\n",
              "      <td>1.800499</td>\n",
              "      <td>0.791461</td>\n",
              "      <td>0.247676</td>\n",
              "      <td>-1.514654</td>\n",
              "      <td>0.207643</td>\n",
              "      <td>...</td>\n",
              "      <td>0.524980</td>\n",
              "      <td>0.247998</td>\n",
              "      <td>0.771679</td>\n",
              "      <td>0.909412</td>\n",
              "      <td>-0.689281</td>\n",
              "      <td>-0.327642</td>\n",
              "      <td>-0.139097</td>\n",
              "      <td>-0.055353</td>\n",
              "      <td>-0.059752</td>\n",
              "      <td>378.66</td>\n",
              "    </tr>\n",
              "    <tr>\n",
              "      <th>3</th>\n",
              "      <td>-0.966272</td>\n",
              "      <td>-0.185226</td>\n",
              "      <td>1.792993</td>\n",
              "      <td>-0.863291</td>\n",
              "      <td>-0.010309</td>\n",
              "      <td>1.247203</td>\n",
              "      <td>0.237609</td>\n",
              "      <td>0.377436</td>\n",
              "      <td>-1.387024</td>\n",
              "      <td>-0.054952</td>\n",
              "      <td>...</td>\n",
              "      <td>-0.208038</td>\n",
              "      <td>-0.108300</td>\n",
              "      <td>0.005274</td>\n",
              "      <td>-0.190321</td>\n",
              "      <td>-1.175575</td>\n",
              "      <td>0.647376</td>\n",
              "      <td>-0.221929</td>\n",
              "      <td>0.062723</td>\n",
              "      <td>0.061458</td>\n",
              "      <td>123.50</td>\n",
              "    </tr>\n",
              "    <tr>\n",
              "      <th>4</th>\n",
              "      <td>-1.158233</td>\n",
              "      <td>0.877737</td>\n",
              "      <td>1.548718</td>\n",
              "      <td>0.403034</td>\n",
              "      <td>-0.407193</td>\n",
              "      <td>0.095921</td>\n",
              "      <td>0.592941</td>\n",
              "      <td>-0.270533</td>\n",
              "      <td>0.817739</td>\n",
              "      <td>0.753074</td>\n",
              "      <td>...</td>\n",
              "      <td>0.408542</td>\n",
              "      <td>-0.009431</td>\n",
              "      <td>0.798278</td>\n",
              "      <td>-0.137458</td>\n",
              "      <td>0.141267</td>\n",
              "      <td>-0.206010</td>\n",
              "      <td>0.502292</td>\n",
              "      <td>0.219422</td>\n",
              "      <td>0.215153</td>\n",
              "      <td>69.99</td>\n",
              "    </tr>\n",
              "  </tbody>\n",
              "</table>\n",
              "<p>5 rows × 29 columns</p>\n",
              "</div>"
            ],
            "text/plain": [
              "         V1        V2        V3        V4        V5        V6        V7  \\\n",
              "0 -1.359807 -0.072781  2.536347  1.378155 -0.338321  0.462388  0.239599   \n",
              "1  1.191857  0.266151  0.166480  0.448154  0.060018 -0.082361 -0.078803   \n",
              "2 -1.358354 -1.340163  1.773209  0.379780 -0.503198  1.800499  0.791461   \n",
              "3 -0.966272 -0.185226  1.792993 -0.863291 -0.010309  1.247203  0.237609   \n",
              "4 -1.158233  0.877737  1.548718  0.403034 -0.407193  0.095921  0.592941   \n",
              "\n",
              "         V8        V9       V10  ...       V20       V21       V22       V23  \\\n",
              "0  0.098698  0.363787  0.090794  ...  0.251412 -0.018307  0.277838 -0.110474   \n",
              "1  0.085102 -0.255425 -0.166974  ... -0.069083 -0.225775 -0.638672  0.101288   \n",
              "2  0.247676 -1.514654  0.207643  ...  0.524980  0.247998  0.771679  0.909412   \n",
              "3  0.377436 -1.387024 -0.054952  ... -0.208038 -0.108300  0.005274 -0.190321   \n",
              "4 -0.270533  0.817739  0.753074  ...  0.408542 -0.009431  0.798278 -0.137458   \n",
              "\n",
              "        V24       V25       V26       V27       V28  Amount  \n",
              "0  0.066928  0.128539 -0.189115  0.133558 -0.021053  149.62  \n",
              "1 -0.339846  0.167170  0.125895 -0.008983  0.014724    2.69  \n",
              "2 -0.689281 -0.327642 -0.139097 -0.055353 -0.059752  378.66  \n",
              "3 -1.175575  0.647376 -0.221929  0.062723  0.061458  123.50  \n",
              "4  0.141267 -0.206010  0.502292  0.219422  0.215153   69.99  \n",
              "\n",
              "[5 rows x 29 columns]"
            ]
          },
          "execution_count": 3,
          "metadata": {},
          "output_type": "execute_result"
        }
      ],
      "source": [
        "df.drop_duplicates(inplace=True)\n",
        "X = df.drop(columns=['Class'])\n",
        "y_true = df['Class']\n",
        "print(df['Class'].value_counts())\n",
        "X.head()\n"
      ]
    },
    {
      "cell_type": "code",
      "execution_count": null,
      "metadata": {
        "id": "DNeO0fOuv83f"
      },
      "outputs": [],
      "source": [
        "import seaborn as sns\n",
        "import matplotlib.pyplot as plt\n",
        "import numpy as np\n",
        "import pandas as pd\n",
        "\n",
        "from sklearn.pipeline import Pipeline\n",
        "from sklearn.model_selection import GridSearchCV, train_test_split\n",
        "from sklearn.neighbors import LocalOutlierFactor\n",
        "from sklearn.decomposition import PCA\n",
        "from sklearn.preprocessing import StandardScaler\n",
        "from sklearn.covariance import EllipticEnvelope\n",
        "from sklearn.ensemble import IsolationForest\n",
        "from sklearn.svm import OneClassSVM\n",
        "from sklearn.metrics import classification_report, roc_auc_score, accuracy_score, precision_recall_curve, auc, confusion_matrix, make_scorer, f1_score\n"
      ]
    },
    {
      "cell_type": "code",
      "execution_count": null,
      "metadata": {
        "colab": {
          "base_uri": "https://localhost:8080/"
        },
        "id": "0xPCQgJOZHh3",
        "outputId": "bdb13f06-3376-4566-f9c0-0c394a36c7f9"
      },
      "outputs": [
        {
          "name": "stdout",
          "output_type": "stream",
          "text": [
            "X_train: (206747, 2)\n",
            "X_test: (68916, 2)\n",
            "y_train: (206747,)\n",
            "y_test: (68916,)\n"
          ]
        }
      ],
      "source": [
        "X_scaled = StandardScaler().fit_transform(X)\n",
        "X_pca = PCA(n_components=2).fit_transform(X_scaled)\n",
        "\n",
        "X_train, X_test, y_train, y_test = train_test_split(X_pca, y_true,\n",
        "                                                    test_size=0.25,\n",
        "                                                    stratify=y_true)\n",
        "for name, arr in zip(['X_train','X_test','y_train','y_test'],[X_train, X_test, y_train, y_test]):\n",
        "  print(f'{name}: {arr.shape}')\n"
      ]
    },
    {
      "cell_type": "code",
      "execution_count": null,
      "metadata": {
        "colab": {
          "base_uri": "https://localhost:8080/"
        },
        "id": "aT5C6G1TgZSm",
        "outputId": "88abe9ca-8abc-4586-8358-b21b83c160b8"
      },
      "outputs": [
        {
          "name": "stdout",
          "output_type": "stream",
          "text": [
            "              precision    recall  f1-score   support\n",
            "\n",
            "           0       1.00      1.00      1.00     68798\n",
            "           1       0.00      0.00      0.00       118\n",
            "\n",
            "    accuracy                           1.00     68916\n",
            "   macro avg       0.50      0.50      0.50     68916\n",
            "weighted avg       1.00      1.00      1.00     68916\n",
            "\n",
            "Confusion matrix:\n",
            " [[68683   115]\n",
            " [  118     0]]\n"
          ]
        }
      ],
      "source": [
        "def run_ee():\n",
        "\n",
        "  pipeline_ee = Pipeline([\n",
        "      ('scaler', StandardScaler()),\n",
        "      ('pca', PCA(n_components=0.95)),\n",
        "      ('model', EllipticEnvelope(contamination=0.0017)) ])\n",
        "\n",
        "  pipeline_ee.fit(X_train)\n",
        "\n",
        "  labels = pipeline_ee.predict(X_test)\n",
        "  scores = pipeline_ee.decision_function(X_test)\n",
        "\n",
        "  y_pred = (labels == -1).astype(int)\n",
        "\n",
        "  # evaluate\n",
        "  print(classification_report(y_test, y_pred))\n",
        "  cm = confusion_matrix(y_test, y_pred)\n",
        "  print('Confusion matrix:\\n',cm)\n",
        "run_ee()\n"
      ]
    },
    {
      "cell_type": "code",
      "execution_count": null,
      "metadata": {
        "colab": {
          "base_uri": "https://localhost:8080/"
        },
        "id": "9BS3Tjhf71GI",
        "outputId": "696a3c4b-5d8c-47cd-caad-1a5bd6423555"
      },
      "outputs": [
        {
          "name": "stdout",
          "output_type": "stream",
          "text": [
            "              precision    recall  f1-score   support\n",
            "\n",
            "   non-fraud       1.00      1.00      1.00     68798\n",
            "       fraud       0.00      0.00      0.00       118\n",
            "\n",
            "    accuracy                           1.00     68916\n",
            "   macro avg       0.50      0.50      0.50     68916\n",
            "weighted avg       1.00      1.00      1.00     68916\n",
            "\n",
            "Confusion matrix:\n",
            " [[68672   126]\n",
            " [  118     0]]\n"
          ]
        }
      ],
      "source": [
        "def run_IF():\n",
        "\n",
        "  pipeline = Pipeline([\n",
        "      ('scaler', StandardScaler()),\n",
        "      #('pca', PCA(n_components=0.95)),\n",
        "      ('model', IsolationForest(contamination=0.0017, n_estimators=100)) ])\n",
        "\n",
        "  pipeline.fit(X_train)\n",
        "\n",
        "  y_pred = pipeline.predict(X_test)\n",
        "  y_pred = [0 if x == 1 else 1 for x in y_pred]\n",
        "  print(classification_report(y_test, y_pred, target_names=['non-fraud', 'fraud']))\n",
        "\n",
        "  cm = confusion_matrix(y_test, y_pred)\n",
        "  print('Confusion matrix:\\n',cm)\n",
        "\n",
        "run_IF()\n"
      ]
    },
    {
      "cell_type": "code",
      "execution_count": null,
      "metadata": {
        "colab": {
          "base_uri": "https://localhost:8080/"
        },
        "id": "rv9UU5S_8mxj",
        "outputId": "4916b276-ab6a-4f3d-f0a0-677d2849338a"
      },
      "outputs": [
        {
          "name": "stdout",
          "output_type": "stream",
          "text": [
            "              precision    recall  f1-score   support\n",
            "\n",
            "   non-fraud       1.00      1.00      1.00     68798\n",
            "       fraud       0.02      0.02      0.02       118\n",
            "\n",
            "    accuracy                           1.00     68916\n",
            "   macro avg       0.51      0.51      0.51     68916\n",
            "weighted avg       1.00      1.00      1.00     68916\n",
            "\n",
            "Confusion matrix\n",
            " [[68676   122]\n",
            " [  116     2]]\n"
          ]
        }
      ],
      "source": [
        "def run_LOF():\n",
        "\n",
        "  pipeline = Pipeline([\n",
        "    ('scaler',StandardScaler()),\n",
        "    ('model', LocalOutlierFactor(n_neighbors=25,\n",
        "                                  contamination=0.0017,\n",
        "                                  novelty=True))\n",
        "  ])\n",
        "\n",
        "  pipeline.fit(X_train)\n",
        "\n",
        "  y_pred = pipeline.predict(X_test)\n",
        "  y_pred = [0 if x == 1 else 1 for x in y_pred]\n",
        "  print(classification_report(y_test, y_pred, target_names=['non-fraud', 'fraud']))\n",
        "\n",
        "  cm = confusion_matrix(y_test, y_pred)\n",
        "  print('Confusion matrix\\n',cm)\n",
        "\n",
        "run_LOF()\n"
      ]
    },
    {
      "cell_type": "code",
      "execution_count": 44,
      "metadata": {},
      "outputs": [
        {
          "name": "stdout",
          "output_type": "stream",
          "text": [
            "              precision    recall  f1-score   support\n",
            "\n",
            "   non-fraud       1.00      0.99      1.00     68798\n",
            "       fraud       0.02      0.06      0.02       118\n",
            "\n",
            "    accuracy                           0.99     68916\n",
            "   macro avg       0.51      0.53      0.51     68916\n",
            "weighted avg       1.00      0.99      0.99     68916\n",
            "\n",
            "Confusion matrix\n",
            " [[68351   447]\n",
            " [  111     7]]\n"
          ]
        }
      ],
      "source": [
        "from sklearn.cluster import DBSCAN\n",
        "\n",
        "def run_dbscan():\n",
        "  pipeline = Pipeline([\n",
        "    ('scaler',StandardScaler()),\n",
        "    ('model', DBSCAN(eps=0.7, min_samples=30))\n",
        "  ])\n",
        "\n",
        "  y_pred = pipeline.fit_predict(X_test)\n",
        "  y_pred = np.where(y_pred == -1, 1, 0)\n",
        "\n",
        "  print(classification_report(y_test, y_pred, target_names=['non-fraud', 'fraud']))\n",
        "\n",
        "  cm = confusion_matrix(y_test, y_pred)\n",
        "  print('Confusion matrix\\n',cm)\n",
        "\n",
        "run_dbscan()\n"
      ]
    },
    {
      "cell_type": "code",
      "execution_count": 50,
      "metadata": {},
      "outputs": [
        {
          "name": "stdout",
          "output_type": "stream",
          "text": [
            "OneClassSVM parameters: {'cache_size': 200, 'coef0': 0.0, 'degree': 3, 'gamma': 'scale', 'kernel': 'rbf', 'max_iter': -1, 'nu': 0.0017, 'shrinking': True, 'tol': 0.001, 'verbose': False}\n",
            "\n",
            "Classification report:\n",
            "              precision    recall  f1-score   support\n",
            "\n",
            "   non-fraud       1.00      0.98      0.99     68798\n",
            "       fraud       0.00      0.04      0.01       118\n",
            "\n",
            "    accuracy                           0.98     68916\n",
            "   macro avg       0.50      0.51      0.50     68916\n",
            "weighted avg       1.00      0.98      0.99     68916\n",
            "\n",
            "Confusion matrix:\n",
            "[[67680  1118]\n",
            " [  113     5]]\n"
          ]
        }
      ],
      "source": [
        "from sklearn.svm import OneClassSVM\n",
        "def run_SVM():\n",
        "    pipeline = Pipeline([\n",
        "        ('scaler',StandardScaler()),\n",
        "        ('model', OneClassSVM(kernel='rbf',\n",
        "                              nu=0.0017))\n",
        "    ])\n",
        "    pipeline.fit(X_train)\n",
        "\n",
        "    y_pred = pipeline.predict(X_test)\n",
        "    y_pred = np.where(y_pred == -1,1,0)\n",
        "\n",
        "    print(\"OneClassSVM parameters:\", pipeline.named_steps['model'].get_params())\n",
        "    print(\"\\nClassification report:\")\n",
        "    print(classification_report(y_test, y_pred, target_names=['non-fraud','fraud']))\n",
        "    print(\"Confusion matrix:\")\n",
        "    print(confusion_matrix(y_test, y_pred))\n",
        "run_SVM()\n"
      ]
    },
    {
      "cell_type": "code",
      "execution_count": null,
      "metadata": {},
      "outputs": [],
      "source": []
    }
  ],
  "metadata": {
    "colab": {
      "authorship_tag": "ABX9TyN/R8HLY79Jx1aF0sARZzn8",
      "include_colab_link": true,
      "provenance": []
    },
    "kernelspec": {
      "display_name": "base",
      "language": "python",
      "name": "python3"
    },
    "language_info": {
      "codemirror_mode": {
        "name": "ipython",
        "version": 3
      },
      "file_extension": ".py",
      "mimetype": "text/x-python",
      "name": "python",
      "nbconvert_exporter": "python",
      "pygments_lexer": "ipython3",
      "version": "3.12.7"
    }
  },
  "nbformat": 4,
  "nbformat_minor": 0
}
