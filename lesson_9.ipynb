{
  "nbformat": 4,
  "nbformat_minor": 0,
  "metadata": {
    "colab": {
      "provenance": [],
      "authorship_tag": "ABX9TyOD58FZewpiwNGhc9/IC4Q5"
    },
    "kernelspec": {
      "name": "python3",
      "display_name": "Python 3"
    },
    "language_info": {
      "name": "python"
    }
  },
  "cells": [
    {
      "cell_type": "code",
      "execution_count": 24,
      "metadata": {
        "id": "ynJ_BrjnYpe9"
      },
      "outputs": [],
      "source": [
        "from sklearn.model_selection import train_test_split, GridSearchCV\n",
        "from sklearn.datasets import load_breast_cancer\n",
        "from sklearn.preprocessing import StandardScaler\n",
        "from sklearn.pipeline import Pipeline\n",
        "from sklearn.neural_network import MLPClassifier\n",
        "from sklearn.metrics import classification_report, confusion_matrix\n",
        "\n",
        "import matplotlib.pyplot as plt\n",
        "import seaborn as sns\n",
        "import pandas as pd\n",
        "\n"
      ]
    },
    {
      "cell_type": "markdown",
      "source": [],
      "metadata": {
        "id": "G0e5291WZYCf"
      }
    },
    {
      "cell_type": "code",
      "source": [
        "X, y = load_breast_cancer(return_X_y=True)\n",
        "print('X.shape=', X.shape)\n",
        "print('Y.shape=',y.shape)\n",
        "print('*'*20)\n",
        "X_train, X_test, y_train, y_test = train_test_split(\n",
        "    X,y,\n",
        "    test_size=0.30,\n",
        "    random_state=0\n",
        ")\n",
        "\n",
        "for name, arr in zip(['X_train','X_test','y_train','y_test'],[X_train, X_test, y_train, y_test]):\n",
        "  print(f'{name}: {arr.shape}')"
      ],
      "metadata": {
        "colab": {
          "base_uri": "https://localhost:8080/"
        },
        "id": "8e9a7qzlYvDm",
        "outputId": "baecb6c5-f902-4167-83be-c4de0f7cbaa2"
      },
      "execution_count": 4,
      "outputs": [
        {
          "output_type": "stream",
          "name": "stdout",
          "text": [
            "X.shape= (569, 30)\n",
            "Y.shape= (569,)\n",
            "********************\n",
            "X_train: (398, 30)\n",
            "X_test: (171, 30)\n",
            "y_train: (398,)\n",
            "y_test: (171,)\n"
          ]
        }
      ]
    },
    {
      "cell_type": "code",
      "source": [
        "pipeline = Pipeline([\n",
        "    ('scaler', StandardScaler()),\n",
        "    ('mlp', MLPClassifier())\n",
        "])\n",
        "\n",
        "param_grid = {\n",
        "    'mlp__solver':['adam', 'sgd'],\n",
        "    'mlp__alpha': [1e-4, 1e-3, 1e-2],\n",
        "    'mlp__learning_rate': ['constant', 'adaptive'],\n",
        "    'mlp__max_iter': [500]\n",
        "}\n",
        "\n",
        "search = GridSearchCV(\n",
        "    estimator=pipeline,\n",
        "    param_grid= param_grid,\n",
        "    verbose=True\n",
        ")\n",
        "\n",
        "search.fit(X_train,y_train)\n",
        "print('Test score:', round(search.score(X_test, y_test),3))\n",
        "print('Train score', round(search.score(X_train, y_train),3))\n"
      ],
      "metadata": {
        "colab": {
          "base_uri": "https://localhost:8080/"
        },
        "id": "hkVf4MKLZKNt",
        "outputId": "34112658-2c90-4373-f850-4b7cb7068895"
      },
      "execution_count": 5,
      "outputs": [
        {
          "output_type": "stream",
          "name": "stdout",
          "text": [
            "Fitting 5 folds for each of 12 candidates, totalling 60 fits\n"
          ]
        },
        {
          "output_type": "stream",
          "name": "stderr",
          "text": [
            "/usr/local/lib/python3.11/dist-packages/sklearn/neural_network/_multilayer_perceptron.py:691: ConvergenceWarning: Stochastic Optimizer: Maximum iterations (500) reached and the optimization hasn't converged yet.\n",
            "  warnings.warn(\n",
            "/usr/local/lib/python3.11/dist-packages/sklearn/neural_network/_multilayer_perceptron.py:691: ConvergenceWarning: Stochastic Optimizer: Maximum iterations (500) reached and the optimization hasn't converged yet.\n",
            "  warnings.warn(\n"
          ]
        },
        {
          "output_type": "stream",
          "name": "stdout",
          "text": [
            "Test score: 0.965\n",
            "Train score 0.997\n"
          ]
        }
      ]
    },
    {
      "cell_type": "code",
      "source": [
        "best_model = search.best_estimator_.named_steps['mlp']\n",
        "losses = best_model.loss_curve_\n"
      ],
      "metadata": {
        "id": "aN8AoRFY5i23"
      },
      "execution_count": 14,
      "outputs": []
    },
    {
      "cell_type": "code",
      "source": [
        "plt.plot(losses)\n",
        "plt.title('Loss curve for best model')"
      ],
      "metadata": {
        "colab": {
          "base_uri": "https://localhost:8080/",
          "height": 469
        },
        "id": "BMb6BHHgVzMC",
        "outputId": "999fe6c4-a420-45d6-d1a5-6fc00f2be117"
      },
      "execution_count": 16,
      "outputs": [
        {
          "output_type": "execute_result",
          "data": {
            "text/plain": [
              "Text(0.5, 1.0, 'Loss curve for best model')"
            ]
          },
          "metadata": {},
          "execution_count": 16
        },
        {
          "output_type": "display_data",
          "data": {
            "text/plain": [
              "<Figure size 640x480 with 1 Axes>"
            ],
            "image/png": "[encoded data removed]"
          },
          "metadata": {}
        }
      ]
    },
    {
      "cell_type": "code",
      "source": [
        "y_pred = search.predict(X_test)\n",
        "print(classification_report(y_test, y_pred))\n",
        "cm = confusion_matrix(y_test, y_pred)\n",
        "\n",
        "print(cm)\n",
        "\n",
        "sns.heatmap(cm,annot=True, fmt='d')\n",
        "plt.xlabel('predicted')\n",
        "plt.ylabel('True')\n",
        "\n",
        "\n"
      ],
      "metadata": {
        "colab": {
          "base_uri": "https://localhost:8080/",
          "height": 657
        },
        "id": "M9oFuNz0Wrxk",
        "outputId": "3acc33d5-0cd3-4c0a-904e-37c09aeda676"
      },
      "execution_count": 22,
      "outputs": [
        {
          "output_type": "stream",
          "name": "stdout",
          "text": [
            "              precision    recall  f1-score   support\n",
            "\n",
            "           0       0.94      0.97      0.95        63\n",
            "           1       0.98      0.96      0.97       108\n",
            "\n",
            "    accuracy                           0.96       171\n",
            "   macro avg       0.96      0.97      0.96       171\n",
            "weighted avg       0.97      0.96      0.97       171\n",
            "\n",
            "[[ 61   2]\n",
            " [  4 104]]\n"
          ]
        },
        {
          "output_type": "execute_result",
          "data": {
            "text/plain": [
              "Text(50.722222222222214, 0.5, 'True')"
            ]
          },
          "metadata": {},
          "execution_count": 22
        },
        {
          "output_type": "display_data",
          "data": {
            "text/plain": [
              "<Figure size 640x480 with 2 Axes>"
            ],
            "image/png": "[encoded data removed]"
          },
          "metadata": {}
        }
      ]
    },
    {
      "cell_type": "code",
      "source": [
        "\n",
        "results = pd.DataFrame(search.cv_results_)\n",
        "# Сортуємо за рангом\n",
        "results = results.sort_values('rank_test_score')\n"
      ],
      "metadata": {
        "id": "xxQmVj_JY1Av"
      },
      "execution_count": 31,
      "outputs": []
    },
    {
      "cell_type": "code",
      "source": [],
      "metadata": {
        "id": "uyDLP8L0eB_6"
      },
      "execution_count": null,
      "outputs": []
    }
  ]
}